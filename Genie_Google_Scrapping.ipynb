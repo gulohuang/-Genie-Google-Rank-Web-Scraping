{
 "cells": [
  {
   "cell_type": "code",
   "execution_count": null,
   "id": "18b0ce55",
   "metadata": {},
   "outputs": [],
   "source": [
    "import numpy as np\n",
    "import pandas as pd\n",
    "import requests\n",
    "from bs4 import BeautifulSoup\n",
    "from selenium import webdriver\n",
    "from selenium.webdriver.common.keys import Keys\n",
    "from datetime import datetime\n",
    "import time"
   ]
  },
  {
   "cell_type": "code",
   "execution_count": null,
   "id": "528c64be",
   "metadata": {},
   "outputs": [],
   "source": [
    "keyword_list=['Genie','Genie Model','Genie Research','Genie Alphabet','Genie World','Genie World Model','Genie chat','Genie bot','Genie machine learning','Genie AI', 'Genie Google','Genie 2024','Genie Manual','Genie Paper']"
   ]
  },
  {
   "cell_type": "code",
   "execution_count": null,
   "id": "0e6d4b7f",
   "metadata": {},
   "outputs": [],
   "source": [
    "# use selenium to scroll down google search result page to get more than 10 records.\n",
    "# use beautifulsoup to parse the site page.\n",
    "# find the title, link and rank of the search results\n",
    "def google_search_selenium(keyword_list):\n",
    "    URL_list=pd.DataFrame(columns=('title','link','keyword','rank'))\n",
    "    for keyword in keyword_list:\n",
    "        search_word='+'.join(keyword.split())\n",
    "        URL = f\"https://google.com/search?q={search_word}\".format(search_word=search_word)\n",
    "        #selenium scroll down\n",
    "        driver = webdriver.Chrome()\n",
    "        driver.get(URL)\n",
    "\n",
    "        SCROLL_PAUSE_TIME = 2  # Adjust this value as needed\n",
    "        last_height = driver.execute_script('return document.body.scrollHeight')\n",
    "        while True:\n",
    "            driver.execute_script('window.scrollTo(0, document.body.scrollHeight);')\n",
    "            time.sleep(SCROLL_PAUSE_TIME)\n",
    "            new_height = driver.execute_script('return document.body.scrollHeight')\n",
    "            if new_height == last_height:\n",
    "                break\n",
    "            last_height = new_height\n",
    "        soup = BeautifulSoup(driver.page_source, 'html.parser')\n",
    "        driver.quit()\n",
    "        #parsing the search result page\n",
    "        rank_num = 1\n",
    "        for g in soup.find_all('div', class_='yuRUbf'):\n",
    "            anchors = g.find_all('a')\n",
    "            if anchors:\n",
    "                link = anchors[0]['href']\n",
    "                title = g.find('h3').text\n",
    "                item = pd.DataFrame({\n",
    "                    \"title\": title,\n",
    "                    \"link\": link,\n",
    "                    'keyword':keyword,\n",
    "                    'rank':rank_num\n",
    "                    },index=[0])\n",
    "                URL_list=pd.concat([URL_list,item], axis=0)\n",
    "            rank_num=rank_num+1\n",
    "    return URL_list"
   ]
  },
  {
   "cell_type": "code",
   "execution_count": null,
   "id": "3585d6eb",
   "metadata": {},
   "outputs": [],
   "source": [
    "# save the results with the timestamp\n",
    "genie_google_rank=google_search_selenium(keyword_list)\n",
    "timestamp = datetime.now().strftime('%Y-%m-%d')\n",
    "genie_google_rank.to_csv(f'genie_google_rank_{timestamp}.csv')"
   ]
  }
 ],
 "metadata": {
  "kernelspec": {
   "display_name": "Python 3 (ipykernel)",
   "language": "python",
   "name": "python3"
  },
  "language_info": {
   "codemirror_mode": {
    "name": "ipython",
    "version": 3
   },
   "file_extension": ".py",
   "mimetype": "text/x-python",
   "name": "python",
   "nbconvert_exporter": "python",
   "pygments_lexer": "ipython3",
   "version": "3.11.3"
  }
 },
 "nbformat": 4,
 "nbformat_minor": 5
}
